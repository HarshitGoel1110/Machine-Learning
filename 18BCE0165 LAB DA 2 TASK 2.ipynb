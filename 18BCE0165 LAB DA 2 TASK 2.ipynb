{
 "cells": [
  {
   "cell_type": "markdown",
   "metadata": {},
   "source": [
    "# TASK 2"
   ]
  },
  {
   "cell_type": "code",
   "execution_count": 1,
   "metadata": {},
   "outputs": [],
   "source": [
    "import pandas as pd\n",
    "import numpy as np"
   ]
  },
  {
   "cell_type": "code",
   "execution_count": 2,
   "metadata": {},
   "outputs": [],
   "source": [
    "data = pd.read_csv('loan.csv')"
   ]
  },
  {
   "cell_type": "code",
   "execution_count": 3,
   "metadata": {},
   "outputs": [
    {
     "data": {
      "text/html": [
       "<div>\n",
       "<style scoped>\n",
       "    .dataframe tbody tr th:only-of-type {\n",
       "        vertical-align: middle;\n",
       "    }\n",
       "\n",
       "    .dataframe tbody tr th {\n",
       "        vertical-align: top;\n",
       "    }\n",
       "\n",
       "    .dataframe thead th {\n",
       "        text-align: right;\n",
       "    }\n",
       "</style>\n",
       "<table border=\"1\" class=\"dataframe\">\n",
       "  <thead>\n",
       "    <tr style=\"text-align: right;\">\n",
       "      <th></th>\n",
       "      <th>customer_id</th>\n",
       "      <th>disbursed_amount</th>\n",
       "      <th>interest</th>\n",
       "      <th>market</th>\n",
       "      <th>employment</th>\n",
       "      <th>time_employed</th>\n",
       "      <th>householder</th>\n",
       "      <th>income</th>\n",
       "      <th>date_issued</th>\n",
       "      <th>target</th>\n",
       "      <th>loan_purpose</th>\n",
       "      <th>number_open_accounts</th>\n",
       "      <th>date_last_payment</th>\n",
       "      <th>number_credit_lines_12</th>\n",
       "    </tr>\n",
       "  </thead>\n",
       "  <tbody>\n",
       "    <tr>\n",
       "      <th>0</th>\n",
       "      <td>0</td>\n",
       "      <td>23201.5</td>\n",
       "      <td>15.4840</td>\n",
       "      <td>C</td>\n",
       "      <td>Teacher</td>\n",
       "      <td>&lt;=5 years</td>\n",
       "      <td>RENT</td>\n",
       "      <td>84600.0</td>\n",
       "      <td>2013-06-11</td>\n",
       "      <td>0</td>\n",
       "      <td>Debt consolidation</td>\n",
       "      <td>4.0</td>\n",
       "      <td>2016-01-14</td>\n",
       "      <td>NaN</td>\n",
       "    </tr>\n",
       "    <tr>\n",
       "      <th>1</th>\n",
       "      <td>1</td>\n",
       "      <td>7425.0</td>\n",
       "      <td>11.2032</td>\n",
       "      <td>B</td>\n",
       "      <td>Accountant</td>\n",
       "      <td>&lt;=5 years</td>\n",
       "      <td>OWNER</td>\n",
       "      <td>102000.0</td>\n",
       "      <td>2014-05-08</td>\n",
       "      <td>0</td>\n",
       "      <td>Car purchase</td>\n",
       "      <td>13.0</td>\n",
       "      <td>2016-01-25</td>\n",
       "      <td>NaN</td>\n",
       "    </tr>\n",
       "    <tr>\n",
       "      <th>2</th>\n",
       "      <td>2</td>\n",
       "      <td>11150.0</td>\n",
       "      <td>8.5100</td>\n",
       "      <td>A</td>\n",
       "      <td>Statistician</td>\n",
       "      <td>&lt;=5 years</td>\n",
       "      <td>RENT</td>\n",
       "      <td>69840.0</td>\n",
       "      <td>2013-10-26</td>\n",
       "      <td>0</td>\n",
       "      <td>Debt consolidation</td>\n",
       "      <td>8.0</td>\n",
       "      <td>2014-09-26</td>\n",
       "      <td>NaN</td>\n",
       "    </tr>\n",
       "    <tr>\n",
       "      <th>3</th>\n",
       "      <td>3</td>\n",
       "      <td>7600.0</td>\n",
       "      <td>5.8656</td>\n",
       "      <td>A</td>\n",
       "      <td>Other</td>\n",
       "      <td>&lt;=5 years</td>\n",
       "      <td>RENT</td>\n",
       "      <td>100386.0</td>\n",
       "      <td>2015-08-20</td>\n",
       "      <td>0</td>\n",
       "      <td>Debt consolidation</td>\n",
       "      <td>20.0</td>\n",
       "      <td>2016-01-26</td>\n",
       "      <td>NaN</td>\n",
       "    </tr>\n",
       "    <tr>\n",
       "      <th>4</th>\n",
       "      <td>4</td>\n",
       "      <td>31960.0</td>\n",
       "      <td>18.7392</td>\n",
       "      <td>E</td>\n",
       "      <td>Bus driver</td>\n",
       "      <td>&gt;5 years</td>\n",
       "      <td>RENT</td>\n",
       "      <td>95040.0</td>\n",
       "      <td>2014-07-22</td>\n",
       "      <td>0</td>\n",
       "      <td>Debt consolidation</td>\n",
       "      <td>14.0</td>\n",
       "      <td>2016-01-11</td>\n",
       "      <td>NaN</td>\n",
       "    </tr>\n",
       "  </tbody>\n",
       "</table>\n",
       "</div>"
      ],
      "text/plain": [
       "   customer_id  disbursed_amount  interest market    employment time_employed  \\\n",
       "0            0           23201.5   15.4840      C       Teacher     <=5 years   \n",
       "1            1            7425.0   11.2032      B    Accountant     <=5 years   \n",
       "2            2           11150.0    8.5100      A  Statistician     <=5 years   \n",
       "3            3            7600.0    5.8656      A         Other     <=5 years   \n",
       "4            4           31960.0   18.7392      E    Bus driver      >5 years   \n",
       "\n",
       "  householder    income date_issued  target        loan_purpose  \\\n",
       "0        RENT   84600.0  2013-06-11       0  Debt consolidation   \n",
       "1       OWNER  102000.0  2014-05-08       0        Car purchase   \n",
       "2        RENT   69840.0  2013-10-26       0  Debt consolidation   \n",
       "3        RENT  100386.0  2015-08-20       0  Debt consolidation   \n",
       "4        RENT   95040.0  2014-07-22       0  Debt consolidation   \n",
       "\n",
       "   number_open_accounts date_last_payment  number_credit_lines_12  \n",
       "0                   4.0        2016-01-14                     NaN  \n",
       "1                  13.0        2016-01-25                     NaN  \n",
       "2                   8.0        2014-09-26                     NaN  \n",
       "3                  20.0        2016-01-26                     NaN  \n",
       "4                  14.0        2016-01-11                     NaN  "
      ]
     },
     "execution_count": 3,
     "metadata": {},
     "output_type": "execute_result"
    }
   ],
   "source": [
    "data.head()"
   ]
  },
  {
   "cell_type": "code",
   "execution_count": 4,
   "metadata": {},
   "outputs": [],
   "source": [
    "# task 1\n",
    "mean1 = data['disbursed_amount'].mean()\n",
    "mean2 = data['interest'].mean()"
   ]
  },
  {
   "cell_type": "code",
   "execution_count": 5,
   "metadata": {},
   "outputs": [
    {
     "data": {
      "text/plain": [
       "14132.2755"
      ]
     },
     "execution_count": 5,
     "metadata": {},
     "output_type": "execute_result"
    }
   ],
   "source": [
    "mean1"
   ]
  },
  {
   "cell_type": "code",
   "execution_count": 6,
   "metadata": {},
   "outputs": [
    {
     "data": {
      "text/plain": [
       "12.678819440000039"
      ]
     },
     "execution_count": 6,
     "metadata": {},
     "output_type": "execute_result"
    }
   ],
   "source": [
    "mean2"
   ]
  },
  {
   "cell_type": "code",
   "execution_count": 7,
   "metadata": {},
   "outputs": [
    {
     "data": {
      "text/plain": [
       "2"
      ]
     },
     "execution_count": 7,
     "metadata": {},
     "output_type": "execute_result"
    }
   ],
   "source": [
    "# task 2\n",
    "# number of variables with int64 datatype i.e discrete values\n",
    "data.select_dtypes(include=['int64']).shape[1]\n",
    "# variables are :- customer_id , target\n",
    "# their count is 2"
   ]
  },
  {
   "cell_type": "code",
   "execution_count": 8,
   "metadata": {},
   "outputs": [
    {
     "data": {
      "text/plain": [
       "array([   0,    1,    2, ..., 9997, 9998, 9999], dtype=int64)"
      ]
     },
     "execution_count": 8,
     "metadata": {},
     "output_type": "execute_result"
    }
   ],
   "source": [
    "# task 3\n",
    "data['customer_id'].unique()"
   ]
  },
  {
   "cell_type": "code",
   "execution_count": 9,
   "metadata": {},
   "outputs": [
    {
     "data": {
      "text/plain": [
       "array([0, 1], dtype=int64)"
      ]
     },
     "execution_count": 9,
     "metadata": {},
     "output_type": "execute_result"
    }
   ],
   "source": [
    "data['target'].unique()"
   ]
  },
  {
   "cell_type": "code",
   "execution_count": 10,
   "metadata": {},
   "outputs": [],
   "source": [
    "# task 4\n",
    "data['date_issued_dt'] = pd.to_datetime(data['date_issued'])"
   ]
  },
  {
   "cell_type": "code",
   "execution_count": 11,
   "metadata": {},
   "outputs": [],
   "source": [
    "data['month'] = data['date_issued_dt'].dt.month"
   ]
  },
  {
   "cell_type": "code",
   "execution_count": 12,
   "metadata": {},
   "outputs": [
    {
     "data": {
      "text/plain": [
       "10    1277\n",
       "7     1066\n",
       "11    1017\n",
       "12     882\n",
       "8      852\n",
       "4      816\n",
       "5      749\n",
       "9      734\n",
       "6      700\n",
       "1      700\n",
       "3      623\n",
       "2      584\n",
       "Name: month, dtype: int64"
      ]
     },
     "execution_count": 12,
     "metadata": {},
     "output_type": "execute_result"
    }
   ],
   "source": [
    "data['month'].value_counts()\n",
    "# in the month of \"October\" the number of loan issued is the maximum and equals to 1277"
   ]
  },
  {
   "cell_type": "code",
   "execution_count": 13,
   "metadata": {},
   "outputs": [
    {
     "data": {
      "text/html": [
       "<div>\n",
       "<style scoped>\n",
       "    .dataframe tbody tr th:only-of-type {\n",
       "        vertical-align: middle;\n",
       "    }\n",
       "\n",
       "    .dataframe tbody tr th {\n",
       "        vertical-align: top;\n",
       "    }\n",
       "\n",
       "    .dataframe thead th {\n",
       "        text-align: right;\n",
       "    }\n",
       "</style>\n",
       "<table border=\"1\" class=\"dataframe\">\n",
       "  <thead>\n",
       "    <tr style=\"text-align: right;\">\n",
       "      <th></th>\n",
       "      <th>customer_id</th>\n",
       "      <th>disbursed_amount</th>\n",
       "      <th>interest</th>\n",
       "      <th>market</th>\n",
       "      <th>employment</th>\n",
       "      <th>time_employed</th>\n",
       "      <th>householder</th>\n",
       "      <th>income</th>\n",
       "      <th>date_issued</th>\n",
       "      <th>target</th>\n",
       "      <th>loan_purpose</th>\n",
       "      <th>number_open_accounts</th>\n",
       "      <th>date_last_payment</th>\n",
       "      <th>number_credit_lines_12</th>\n",
       "      <th>date_issued_dt</th>\n",
       "      <th>month</th>\n",
       "    </tr>\n",
       "  </thead>\n",
       "  <tbody>\n",
       "    <tr>\n",
       "      <th>71</th>\n",
       "      <td>71</td>\n",
       "      <td>10230.00</td>\n",
       "      <td>7.8900</td>\n",
       "      <td>A</td>\n",
       "      <td>Teacher</td>\n",
       "      <td>&gt;5 years</td>\n",
       "      <td>OWNER</td>\n",
       "      <td>93840.0</td>\n",
       "      <td>2015-02-21</td>\n",
       "      <td>0</td>\n",
       "      <td>Debt consolidation</td>\n",
       "      <td>12.0</td>\n",
       "      <td>2015-04-15</td>\n",
       "      <td>NaN</td>\n",
       "      <td>2015-02-21</td>\n",
       "      <td>2</td>\n",
       "    </tr>\n",
       "    <tr>\n",
       "      <th>85</th>\n",
       "      <td>85</td>\n",
       "      <td>3713.00</td>\n",
       "      <td>14.3068</td>\n",
       "      <td>C</td>\n",
       "      <td>Teacher</td>\n",
       "      <td>&gt;5 years</td>\n",
       "      <td>OWNER</td>\n",
       "      <td>19950.0</td>\n",
       "      <td>2013-07-20</td>\n",
       "      <td>0</td>\n",
       "      <td>Debt consolidation</td>\n",
       "      <td>2.0</td>\n",
       "      <td>2015-06-07</td>\n",
       "      <td>NaN</td>\n",
       "      <td>2013-07-20</td>\n",
       "      <td>7</td>\n",
       "    </tr>\n",
       "    <tr>\n",
       "      <th>171</th>\n",
       "      <td>171</td>\n",
       "      <td>19646.25</td>\n",
       "      <td>14.3904</td>\n",
       "      <td>C</td>\n",
       "      <td>Teacher</td>\n",
       "      <td>&lt;=5 years</td>\n",
       "      <td>OWNER</td>\n",
       "      <td>44650.0</td>\n",
       "      <td>2014-09-14</td>\n",
       "      <td>0</td>\n",
       "      <td>Home improvements</td>\n",
       "      <td>21.0</td>\n",
       "      <td>2016-01-10</td>\n",
       "      <td>NaN</td>\n",
       "      <td>2014-09-14</td>\n",
       "      <td>9</td>\n",
       "    </tr>\n",
       "    <tr>\n",
       "      <th>672</th>\n",
       "      <td>672</td>\n",
       "      <td>15200.00</td>\n",
       "      <td>10.8801</td>\n",
       "      <td>B</td>\n",
       "      <td>Teacher</td>\n",
       "      <td>&gt;5 years</td>\n",
       "      <td>OWNER</td>\n",
       "      <td>82450.0</td>\n",
       "      <td>2015-11-16</td>\n",
       "      <td>0</td>\n",
       "      <td>Debt consolidation</td>\n",
       "      <td>17.0</td>\n",
       "      <td>2016-01-27</td>\n",
       "      <td>NaN</td>\n",
       "      <td>2015-11-16</td>\n",
       "      <td>11</td>\n",
       "    </tr>\n",
       "    <tr>\n",
       "      <th>1024</th>\n",
       "      <td>1024</td>\n",
       "      <td>12144.00</td>\n",
       "      <td>14.2008</td>\n",
       "      <td>C</td>\n",
       "      <td>Teacher</td>\n",
       "      <td>&lt;=5 years</td>\n",
       "      <td>OWNER</td>\n",
       "      <td>66240.0</td>\n",
       "      <td>2014-04-26</td>\n",
       "      <td>0</td>\n",
       "      <td>Debt consolidation</td>\n",
       "      <td>9.0</td>\n",
       "      <td>2015-03-15</td>\n",
       "      <td>NaN</td>\n",
       "      <td>2014-04-26</td>\n",
       "      <td>4</td>\n",
       "    </tr>\n",
       "    <tr>\n",
       "      <th>...</th>\n",
       "      <td>...</td>\n",
       "      <td>...</td>\n",
       "      <td>...</td>\n",
       "      <td>...</td>\n",
       "      <td>...</td>\n",
       "      <td>...</td>\n",
       "      <td>...</td>\n",
       "      <td>...</td>\n",
       "      <td>...</td>\n",
       "      <td>...</td>\n",
       "      <td>...</td>\n",
       "      <td>...</td>\n",
       "      <td>...</td>\n",
       "      <td>...</td>\n",
       "      <td>...</td>\n",
       "      <td>...</td>\n",
       "    </tr>\n",
       "    <tr>\n",
       "      <th>9154</th>\n",
       "      <td>9154</td>\n",
       "      <td>9900.00</td>\n",
       "      <td>13.3855</td>\n",
       "      <td>B</td>\n",
       "      <td>Teacher</td>\n",
       "      <td>&gt;5 years</td>\n",
       "      <td>OWNER</td>\n",
       "      <td>40000.0</td>\n",
       "      <td>2012-12-14</td>\n",
       "      <td>0</td>\n",
       "      <td>Debt consolidation</td>\n",
       "      <td>6.0</td>\n",
       "      <td>2013-02-20</td>\n",
       "      <td>NaN</td>\n",
       "      <td>2012-12-14</td>\n",
       "      <td>12</td>\n",
       "    </tr>\n",
       "    <tr>\n",
       "      <th>9172</th>\n",
       "      <td>9172</td>\n",
       "      <td>22080.00</td>\n",
       "      <td>23.6509</td>\n",
       "      <td>E</td>\n",
       "      <td>Teacher</td>\n",
       "      <td>&gt;5 years</td>\n",
       "      <td>OWNER</td>\n",
       "      <td>145500.0</td>\n",
       "      <td>2014-08-05</td>\n",
       "      <td>0</td>\n",
       "      <td>Other</td>\n",
       "      <td>24.0</td>\n",
       "      <td>2016-01-06</td>\n",
       "      <td>NaN</td>\n",
       "      <td>2014-08-05</td>\n",
       "      <td>8</td>\n",
       "    </tr>\n",
       "    <tr>\n",
       "      <th>9433</th>\n",
       "      <td>9433</td>\n",
       "      <td>4750.00</td>\n",
       "      <td>10.4405</td>\n",
       "      <td>B</td>\n",
       "      <td>Teacher</td>\n",
       "      <td>&lt;=5 years</td>\n",
       "      <td>OWNER</td>\n",
       "      <td>24440.0</td>\n",
       "      <td>2015-07-12</td>\n",
       "      <td>0</td>\n",
       "      <td>Debt consolidation</td>\n",
       "      <td>5.0</td>\n",
       "      <td>2016-01-22</td>\n",
       "      <td>NaN</td>\n",
       "      <td>2015-07-12</td>\n",
       "      <td>7</td>\n",
       "    </tr>\n",
       "    <tr>\n",
       "      <th>9684</th>\n",
       "      <td>9684</td>\n",
       "      <td>6650.00</td>\n",
       "      <td>7.4955</td>\n",
       "      <td>A</td>\n",
       "      <td>Teacher</td>\n",
       "      <td>&gt;5 years</td>\n",
       "      <td>OWNER</td>\n",
       "      <td>79200.0</td>\n",
       "      <td>2015-04-23</td>\n",
       "      <td>0</td>\n",
       "      <td>Debt consolidation</td>\n",
       "      <td>11.0</td>\n",
       "      <td>2015-12-06</td>\n",
       "      <td>NaN</td>\n",
       "      <td>2015-04-23</td>\n",
       "      <td>4</td>\n",
       "    </tr>\n",
       "    <tr>\n",
       "      <th>9769</th>\n",
       "      <td>9769</td>\n",
       "      <td>16005.00</td>\n",
       "      <td>12.5631</td>\n",
       "      <td>C</td>\n",
       "      <td>Teacher</td>\n",
       "      <td>&gt;5 years</td>\n",
       "      <td>OWNER</td>\n",
       "      <td>70560.0</td>\n",
       "      <td>2015-09-22</td>\n",
       "      <td>0</td>\n",
       "      <td>Debt consolidation</td>\n",
       "      <td>12.0</td>\n",
       "      <td>2016-01-20</td>\n",
       "      <td>NaN</td>\n",
       "      <td>2015-09-22</td>\n",
       "      <td>9</td>\n",
       "    </tr>\n",
       "  </tbody>\n",
       "</table>\n",
       "<p>69 rows × 16 columns</p>\n",
       "</div>"
      ],
      "text/plain": [
       "      customer_id  disbursed_amount  interest market employment time_employed  \\\n",
       "71             71          10230.00    7.8900      A    Teacher      >5 years   \n",
       "85             85           3713.00   14.3068      C    Teacher      >5 years   \n",
       "171           171          19646.25   14.3904      C    Teacher     <=5 years   \n",
       "672           672          15200.00   10.8801      B    Teacher      >5 years   \n",
       "1024         1024          12144.00   14.2008      C    Teacher     <=5 years   \n",
       "...           ...               ...       ...    ...        ...           ...   \n",
       "9154         9154           9900.00   13.3855      B    Teacher      >5 years   \n",
       "9172         9172          22080.00   23.6509      E    Teacher      >5 years   \n",
       "9433         9433           4750.00   10.4405      B    Teacher     <=5 years   \n",
       "9684         9684           6650.00    7.4955      A    Teacher      >5 years   \n",
       "9769         9769          16005.00   12.5631      C    Teacher      >5 years   \n",
       "\n",
       "     householder    income date_issued  target        loan_purpose  \\\n",
       "71         OWNER   93840.0  2015-02-21       0  Debt consolidation   \n",
       "85         OWNER   19950.0  2013-07-20       0  Debt consolidation   \n",
       "171        OWNER   44650.0  2014-09-14       0   Home improvements   \n",
       "672        OWNER   82450.0  2015-11-16       0  Debt consolidation   \n",
       "1024       OWNER   66240.0  2014-04-26       0  Debt consolidation   \n",
       "...          ...       ...         ...     ...                 ...   \n",
       "9154       OWNER   40000.0  2012-12-14       0  Debt consolidation   \n",
       "9172       OWNER  145500.0  2014-08-05       0               Other   \n",
       "9433       OWNER   24440.0  2015-07-12       0  Debt consolidation   \n",
       "9684       OWNER   79200.0  2015-04-23       0  Debt consolidation   \n",
       "9769       OWNER   70560.0  2015-09-22       0  Debt consolidation   \n",
       "\n",
       "      number_open_accounts date_last_payment  number_credit_lines_12  \\\n",
       "71                    12.0        2015-04-15                     NaN   \n",
       "85                     2.0        2015-06-07                     NaN   \n",
       "171                   21.0        2016-01-10                     NaN   \n",
       "672                   17.0        2016-01-27                     NaN   \n",
       "1024                   9.0        2015-03-15                     NaN   \n",
       "...                    ...               ...                     ...   \n",
       "9154                   6.0        2013-02-20                     NaN   \n",
       "9172                  24.0        2016-01-06                     NaN   \n",
       "9433                   5.0        2016-01-22                     NaN   \n",
       "9684                  11.0        2015-12-06                     NaN   \n",
       "9769                  12.0        2016-01-20                     NaN   \n",
       "\n",
       "     date_issued_dt  month  \n",
       "71       2015-02-21      2  \n",
       "85       2013-07-20      7  \n",
       "171      2014-09-14      9  \n",
       "672      2015-11-16     11  \n",
       "1024     2014-04-26      4  \n",
       "...             ...    ...  \n",
       "9154     2012-12-14     12  \n",
       "9172     2014-08-05      8  \n",
       "9433     2015-07-12      7  \n",
       "9684     2015-04-23      4  \n",
       "9769     2015-09-22      9  \n",
       "\n",
       "[69 rows x 16 columns]"
      ]
     },
     "execution_count": 13,
     "metadata": {},
     "output_type": "execute_result"
    }
   ],
   "source": [
    "# task 5\n",
    "x = data.query('employment == \"Teacher\" and householder == \"OWNER\"')\n",
    "x"
   ]
  },
  {
   "cell_type": "code",
   "execution_count": 14,
   "metadata": {},
   "outputs": [
    {
     "data": {
      "text/plain": [
       "69"
      ]
     },
     "execution_count": 14,
     "metadata": {},
     "output_type": "execute_result"
    }
   ],
   "source": [
    "x.shape[0]\n",
    "# 69 teachers are owners"
   ]
  },
  {
   "cell_type": "code",
   "execution_count": 15,
   "metadata": {},
   "outputs": [
    {
     "data": {
      "text/plain": [
       "Civil Servant         371\n",
       "Teacher               371\n",
       "Bus driver            360\n",
       "Nurse                 358\n",
       "Secretary             355\n",
       "Dentist               355\n",
       "Other                 353\n",
       "Statistician          342\n",
       "Accountant            322\n",
       "Taxi driver           316\n",
       "Software developer    315\n",
       "Name: employment, dtype: int64"
      ]
     },
     "execution_count": 15,
     "metadata": {},
     "output_type": "execute_result"
    }
   ],
   "source": [
    "# task 6\n",
    "data.query('householder == \"RENT\"')['employment'].value_counts()\n",
    "# \"Civil Servant\" and \"Teacher\" are the employers who mostly rents"
   ]
  }
 ],
 "metadata": {
  "kernelspec": {
   "display_name": "Python 3",
   "language": "python",
   "name": "python3"
  },
  "language_info": {
   "codemirror_mode": {
    "name": "ipython",
    "version": 3
   },
   "file_extension": ".py",
   "mimetype": "text/x-python",
   "name": "python",
   "nbconvert_exporter": "python",
   "pygments_lexer": "ipython3",
   "version": "3.7.6"
  }
 },
 "nbformat": 4,
 "nbformat_minor": 4
}
